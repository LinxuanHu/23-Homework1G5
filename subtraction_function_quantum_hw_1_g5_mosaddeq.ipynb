{
  "nbformat": 4,
  "nbformat_minor": 0,
  "metadata": {
    "colab": {
      "provenance": []
    },
    "kernelspec": {
      "name": "python3",
      "display_name": "Python 3"
    },
    "language_info": {
      "name": "python"
    }
  },
  "cells": [
    {
      "cell_type": "markdown",
      "source": [
        "# `Classical Subtraction Function for IBM Quantum computer`\n",
        "\n",
        "\n",
        "\n",
        "\n",
        "\n"
      ],
      "metadata": {
        "id": "tihMThmXXUAr"
      }
    },
    {
      "cell_type": "markdown",
      "source": [
        "To perform subtraction of two variables on an IBM quantum computer, you can use the Qiskit library, which allows you to run quantum circuits on IBM's quantum devices and simulators. Below is a Python code for subtracting two variables on an IBM quantum computer in a Jupyter Notebook (.ipynb) format, including documentation and unit test code."
      ],
      "metadata": {
        "id": "3phi-fSnXOLl"
      }
    },
    {
      "cell_type": "markdown",
      "source": [
        "Make sure you have Qiskit installed and configured to run on IBM's quantum devices or simulators before executing this code in your Jupyter Notebook. You can install Qiskit using pip install qiskit."
      ],
      "metadata": {
        "id": "MrRF2SevYV7D"
      }
    },
    {
      "cell_type": "code",
      "source": [
        "!pip install qiskit"
      ],
      "metadata": {
        "id": "pPa90wFsYeW8"
      },
      "execution_count": null,
      "outputs": []
    },
    {
      "cell_type": "markdown",
      "source": [
        "# Import necessary libraries"
      ],
      "metadata": {
        "id": "Yt2vy7uuX99b"
      }
    },
    {
      "cell_type": "code",
      "source": [
        "from qiskit import QuantumCircuit, Aer, transpile, assemble, execute\n",
        "from qiskit.visualization import plot_histogram\n",
        "import numpy as np"
      ],
      "metadata": {
        "id": "BqaR5tA9XQAU"
      },
      "execution_count": null,
      "outputs": []
    },
    {
      "cell_type": "markdown",
      "source": [
        "# Define a function for subtraction on a quantum computer"
      ],
      "metadata": {
        "id": "jsnvjAtRXRsi"
      }
    },
    {
      "cell_type": "code",
      "source": [
        "def quantum_subtraction(a, b):\n",
        "    # Determine the number of qubits needed for the computation\n",
        "    n = max(len(bin(a)), len(bin(b))) - 2\n",
        "\n",
        "    # Initialize a quantum circuit with n+1 qubits and n classical bits\n",
        "    qc = QuantumCircuit(n + 1, n)\n",
        "\n",
        "    # Encode the values a and b into binary format and initialize the quantum state\n",
        "    a_bin = format(a, '0' + str(n) + 'b')\n",
        "    b_bin = format(b, '0' + str(n) + 'b')\n",
        "    for i in range(n):\n",
        "        if a_bin[n - i - 1] == '1':\n",
        "            qc.x(i)\n",
        "        if b_bin[n - i - 1] == '1':\n",
        "            qc.x(i)\n",
        "\n",
        "    # Perform binary subtraction on the quantum circuit\n",
        "    for i in range(n):\n",
        "        qc.cx(i, i + 1)\n",
        "        qc.x(i + 1)\n",
        "\n",
        "    # Measure the quantum state and store the result in classical bits\n",
        "    for i in range(n):\n",
        "        qc.measure(i + 1, i)\n",
        "\n",
        "    # Simulate the quantum circuit using the Qiskit Aer simulator\n",
        "    simulator = Aer.get_backend('qasm_simulator')\n",
        "    transpiled_circuit = transpile(qc, simulator)\n",
        "    job = assemble(transpiled_circuit, shots=1)\n",
        "    result = simulator.run(job).result()\n",
        "    counts = result.get_counts()\n",
        "\n",
        "    # Convert the measurement result to an integer\n",
        "    measurement = max(counts, key=counts.get)\n",
        "    result_decimal = int(measurement, 2)\n",
        "\n",
        "    return result_decimal"
      ],
      "metadata": {
        "id": "_lt-u17pZGD_"
      },
      "execution_count": null,
      "outputs": []
    },
    {
      "cell_type": "markdown",
      "source": [
        "# Documentation\n",
        "\n",
        "quantum_subtraction(a, b)\n",
        "\n",
        "*Subtracts two integers 'a' and 'b' using a quantum circuit on an IBM quantum computer.*\n",
        "\n",
        "Parameters:   \n",
        "      a (int): The first integer.     \n",
        "      b (int): The second integer.\n",
        "\n",
        "Returns:  \n",
        "    int: The result of subtracting 'b' from 'a' using a quantum circuit.\n",
        "\n",
        "Example:  \n",
        "    >>> quantum_subtraction(5, 3)   \n",
        "    2   \n",
        "  "
      ],
      "metadata": {
        "id": "IlWVZiIkZara"
      }
    },
    {
      "cell_type": "markdown",
      "source": [
        "# Unit test code"
      ],
      "metadata": {
        "id": "bqAuGTWAbZXK"
      }
    },
    {
      "cell_type": "code",
      "source": [
        "def test_quantum_subtraction():\n",
        "    assert quantum_subtraction(5, 3) == 2\n",
        "    assert quantum_subtraction(10, 7) == 3\n",
        "    assert quantum_subtraction(0, 0) == 0\n",
        "    assert quantum_subtraction(15, 7) == 8\n",
        "\n",
        "test_quantum_subtraction()"
      ],
      "metadata": {
        "id": "fcVAhkjhbaUx"
      },
      "execution_count": null,
      "outputs": []

    }
  ]
}